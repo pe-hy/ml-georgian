{
 "cells": [
  {
   "cell_type": "markdown",
   "id": "b189ad5a",
   "metadata": {
    "id": "b189ad5a"
   },
   "source": [
    "### Imports"
   ]
  },
  {
   "cell_type": "code",
   "execution_count": 1,
   "id": "02235d5f",
   "metadata": {
    "id": "02235d5f"
   },
   "outputs": [],
   "source": [
    "import pandas as pd\n",
    "import numpy as np\n",
    "import matplotlib.pyplot as plt\n",
    "import seaborn as sns\n",
    "import sklearn\n",
    "from sklearn.preprocessing import StandardScaler\n",
    "import warnings\n",
    "from sklearn.cluster import KMeans\n",
    "from xgboost import XGBClassifier\n",
    "from sklearn.model_selection import cross_val_score\n",
    "from sklearn.metrics import accuracy_score\n",
    "from sklearn.model_selection import KFold\n",
    "from sklearn.model_selection import train_test_split\n",
    "from sklearn.model_selection import RandomizedSearchCV\n",
    "from sklearn.preprocessing import OneHotEncoder\n",
    "from sklearn import preprocessing\n",
    "import xgboost\n",
    "from scipy import stats\n",
    "from pandas.core.common import SettingWithCopyWarning\n",
    "\n",
    "warnings.simplefilter(action=\"ignore\", category=SettingWithCopyWarning)\n",
    "warnings.simplefilter(action='ignore', category=FutureWarning)\n",
    "df = pd.read_csv(\"german_credit_data.csv\")"
   ]
  },
  {
   "cell_type": "markdown",
   "id": "a9848538",
   "metadata": {
    "id": "a9848538"
   },
   "source": [
    "### Exploratory Data Analysis"
   ]
  },
  {
   "cell_type": "markdown",
   "id": "a9d9d35c",
   "metadata": {
    "id": "a9d9d35c"
   },
   "source": [
    "Look at the basic info about the dataset, data types, columns."
   ]
  },
  {
   "cell_type": "code",
   "execution_count": 2,
   "id": "b4692dea",
   "metadata": {
    "colab": {
     "base_uri": "https://localhost:8080/"
    },
    "id": "b4692dea",
    "outputId": "5d8851ae-d548-4c39-97b1-f73614e54afc"
   },
   "outputs": [
    {
     "name": "stdout",
     "output_type": "stream",
     "text": [
      "<class 'pandas.core.frame.DataFrame'>\n",
      "RangeIndex: 1000 entries, 0 to 999\n",
      "Data columns (total 10 columns):\n",
      " #   Column            Non-Null Count  Dtype \n",
      "---  ------            --------------  ----- \n",
      " 0   Age               1000 non-null   int64 \n",
      " 1   Sex               1000 non-null   object\n",
      " 2   Job               1000 non-null   int64 \n",
      " 3   Housing           1000 non-null   object\n",
      " 4   Saving accounts   817 non-null    object\n",
      " 5   Checking account  606 non-null    object\n",
      " 6   Credit amount     1000 non-null   int64 \n",
      " 7   Duration          1000 non-null   int64 \n",
      " 8   Purpose           1000 non-null   object\n",
      " 9   Risk              1000 non-null   object\n",
      "dtypes: int64(4), object(6)\n",
      "memory usage: 78.2+ KB\n"
     ]
    }
   ],
   "source": [
    "df.info()"
   ]
  },
  {
   "cell_type": "markdown",
   "id": "35c76209",
   "metadata": {
    "id": "35c76209"
   },
   "source": [
    "Look at the first 5 entries."
   ]
  },
  {
   "cell_type": "code",
   "execution_count": 3,
   "id": "3bde0f1f",
   "metadata": {
    "colab": {
     "base_uri": "https://localhost:8080/",
     "height": 206
    },
    "id": "3bde0f1f",
    "outputId": "a20c76e7-cad2-4e18-b70d-d55573e7a773"
   },
   "outputs": [
    {
     "data": {
      "text/html": [
       "<div>\n",
       "<style scoped>\n",
       "    .dataframe tbody tr th:only-of-type {\n",
       "        vertical-align: middle;\n",
       "    }\n",
       "\n",
       "    .dataframe tbody tr th {\n",
       "        vertical-align: top;\n",
       "    }\n",
       "\n",
       "    .dataframe thead th {\n",
       "        text-align: right;\n",
       "    }\n",
       "</style>\n",
       "<table border=\"1\" class=\"dataframe\">\n",
       "  <thead>\n",
       "    <tr style=\"text-align: right;\">\n",
       "      <th></th>\n",
       "      <th>Age</th>\n",
       "      <th>Sex</th>\n",
       "      <th>Job</th>\n",
       "      <th>Housing</th>\n",
       "      <th>Saving accounts</th>\n",
       "      <th>Checking account</th>\n",
       "      <th>Credit amount</th>\n",
       "      <th>Duration</th>\n",
       "      <th>Purpose</th>\n",
       "      <th>Risk</th>\n",
       "    </tr>\n",
       "  </thead>\n",
       "  <tbody>\n",
       "    <tr>\n",
       "      <th>0</th>\n",
       "      <td>67</td>\n",
       "      <td>male</td>\n",
       "      <td>2</td>\n",
       "      <td>own</td>\n",
       "      <td>NaN</td>\n",
       "      <td>little</td>\n",
       "      <td>1169</td>\n",
       "      <td>6</td>\n",
       "      <td>radio/TV</td>\n",
       "      <td>good</td>\n",
       "    </tr>\n",
       "    <tr>\n",
       "      <th>1</th>\n",
       "      <td>22</td>\n",
       "      <td>female</td>\n",
       "      <td>2</td>\n",
       "      <td>own</td>\n",
       "      <td>little</td>\n",
       "      <td>moderate</td>\n",
       "      <td>5951</td>\n",
       "      <td>48</td>\n",
       "      <td>radio/TV</td>\n",
       "      <td>bad</td>\n",
       "    </tr>\n",
       "    <tr>\n",
       "      <th>2</th>\n",
       "      <td>49</td>\n",
       "      <td>male</td>\n",
       "      <td>1</td>\n",
       "      <td>own</td>\n",
       "      <td>little</td>\n",
       "      <td>NaN</td>\n",
       "      <td>2096</td>\n",
       "      <td>12</td>\n",
       "      <td>education</td>\n",
       "      <td>good</td>\n",
       "    </tr>\n",
       "    <tr>\n",
       "      <th>3</th>\n",
       "      <td>45</td>\n",
       "      <td>male</td>\n",
       "      <td>2</td>\n",
       "      <td>free</td>\n",
       "      <td>little</td>\n",
       "      <td>little</td>\n",
       "      <td>7882</td>\n",
       "      <td>42</td>\n",
       "      <td>furniture/equipment</td>\n",
       "      <td>good</td>\n",
       "    </tr>\n",
       "    <tr>\n",
       "      <th>4</th>\n",
       "      <td>53</td>\n",
       "      <td>male</td>\n",
       "      <td>2</td>\n",
       "      <td>free</td>\n",
       "      <td>little</td>\n",
       "      <td>little</td>\n",
       "      <td>4870</td>\n",
       "      <td>24</td>\n",
       "      <td>car</td>\n",
       "      <td>bad</td>\n",
       "    </tr>\n",
       "  </tbody>\n",
       "</table>\n",
       "</div>"
      ],
      "text/plain": [
       "   Age     Sex  Job Housing Saving accounts Checking account  Credit amount  \\\n",
       "0   67    male    2     own             NaN           little           1169   \n",
       "1   22  female    2     own          little         moderate           5951   \n",
       "2   49    male    1     own          little              NaN           2096   \n",
       "3   45    male    2    free          little           little           7882   \n",
       "4   53    male    2    free          little           little           4870   \n",
       "\n",
       "   Duration              Purpose  Risk  \n",
       "0         6             radio/TV  good  \n",
       "1        48             radio/TV   bad  \n",
       "2        12            education  good  \n",
       "3        42  furniture/equipment  good  \n",
       "4        24                  car   bad  "
      ]
     },
     "execution_count": 3,
     "metadata": {},
     "output_type": "execute_result"
    }
   ],
   "source": [
    "df.head(5)"
   ]
  },
  {
   "cell_type": "markdown",
   "id": "4622015e",
   "metadata": {
    "id": "4622015e"
   },
   "source": [
    "There are some NaN values."
   ]
  },
  {
   "cell_type": "markdown",
   "id": "25de7c81",
   "metadata": {
    "id": "25de7c81"
   },
   "source": [
    "Check which columns contain null values."
   ]
  },
  {
   "cell_type": "code",
   "execution_count": 4,
   "id": "d00800e3",
   "metadata": {
    "colab": {
     "base_uri": "https://localhost:8080/"
    },
    "id": "d00800e3",
    "outputId": "3fe2b5b0-a531-4dc7-9605-ffd24def299c"
   },
   "outputs": [
    {
     "data": {
      "text/plain": [
       "Age                   0\n",
       "Sex                   0\n",
       "Job                   0\n",
       "Housing               0\n",
       "Saving accounts     183\n",
       "Checking account    394\n",
       "Credit amount         0\n",
       "Duration              0\n",
       "Purpose               0\n",
       "Risk                  0\n",
       "dtype: int64"
      ]
     },
     "execution_count": 4,
     "metadata": {},
     "output_type": "execute_result"
    }
   ],
   "source": [
    "df.isnull().sum()"
   ]
  },
  {
   "cell_type": "markdown",
   "id": "eef8380e",
   "metadata": {
    "id": "eef8380e"
   },
   "source": [
    "We can assume that the missing values in  Saving and Checking accounts columns simply means that the person does not have an account open. We'll replace the NaN with \"none\"."
   ]
  },
  {
   "cell_type": "code",
   "execution_count": 5,
   "id": "bf7a7534",
   "metadata": {
    "colab": {
     "base_uri": "https://localhost:8080/"
    },
    "id": "bf7a7534",
    "outputId": "edd40153-306d-4834-a011-f4c618fa904e"
   },
   "outputs": [
    {
     "data": {
      "text/plain": [
       "Age                 0\n",
       "Sex                 0\n",
       "Job                 0\n",
       "Housing             0\n",
       "Saving accounts     0\n",
       "Checking account    0\n",
       "Credit amount       0\n",
       "Duration            0\n",
       "Purpose             0\n",
       "Risk                0\n",
       "dtype: int64"
      ]
     },
     "execution_count": 5,
     "metadata": {},
     "output_type": "execute_result"
    }
   ],
   "source": [
    "df[\"Saving accounts\"].fillna('none', inplace=True)\n",
    "df[\"Checking account\"].fillna('none', inplace=True)\n",
    "df.isnull().sum()"
   ]
  },
  {
   "cell_type": "markdown",
   "id": "b57a4b72",
   "metadata": {
    "id": "b57a4b72"
   },
   "source": [
    "Check for duplicate and unique values."
   ]
  },
  {
   "cell_type": "code",
   "execution_count": 6,
   "id": "c1184c7f",
   "metadata": {
    "colab": {
     "base_uri": "https://localhost:8080/"
    },
    "id": "c1184c7f",
    "outputId": "7c6c5248-4269-4182-f6ed-ecc1e99c766e"
   },
   "outputs": [
    {
     "data": {
      "text/plain": [
       "0"
      ]
     },
     "execution_count": 6,
     "metadata": {},
     "output_type": "execute_result"
    }
   ],
   "source": [
    "df.duplicated().sum()"
   ]
  },
  {
   "cell_type": "code",
   "execution_count": 7,
   "id": "5171f098",
   "metadata": {
    "colab": {
     "base_uri": "https://localhost:8080/"
    },
    "id": "5171f098",
    "outputId": "96ef7a5a-f7c7-47e3-a979-95d5035b3a52"
   },
   "outputs": [
    {
     "data": {
      "text/plain": [
       "Age                  53\n",
       "Sex                   2\n",
       "Job                   4\n",
       "Housing               3\n",
       "Saving accounts       5\n",
       "Checking account      4\n",
       "Credit amount       921\n",
       "Duration             33\n",
       "Purpose               8\n",
       "Risk                  2\n",
       "dtype: int64"
      ]
     },
     "execution_count": 7,
     "metadata": {},
     "output_type": "execute_result"
    }
   ],
   "source": [
    "df.nunique()"
   ]
  },
  {
   "cell_type": "markdown",
   "id": "1a206504",
   "metadata": {
    "id": "1a206504"
   },
   "source": [
    "Look at basic statistics."
   ]
  },
  {
   "cell_type": "code",
   "execution_count": 8,
   "id": "9e7c2342",
   "metadata": {
    "colab": {
     "base_uri": "https://localhost:8080/",
     "height": 300
    },
    "id": "9e7c2342",
    "outputId": "142e8ba0-138d-4cb6-c39e-3668d931625a",
    "scrolled": true
   },
   "outputs": [
    {
     "data": {
      "text/html": [
       "<div>\n",
       "<style scoped>\n",
       "    .dataframe tbody tr th:only-of-type {\n",
       "        vertical-align: middle;\n",
       "    }\n",
       "\n",
       "    .dataframe tbody tr th {\n",
       "        vertical-align: top;\n",
       "    }\n",
       "\n",
       "    .dataframe thead th {\n",
       "        text-align: right;\n",
       "    }\n",
       "</style>\n",
       "<table border=\"1\" class=\"dataframe\">\n",
       "  <thead>\n",
       "    <tr style=\"text-align: right;\">\n",
       "      <th></th>\n",
       "      <th>Age</th>\n",
       "      <th>Job</th>\n",
       "      <th>Credit amount</th>\n",
       "      <th>Duration</th>\n",
       "    </tr>\n",
       "  </thead>\n",
       "  <tbody>\n",
       "    <tr>\n",
       "      <th>count</th>\n",
       "      <td>1000.000000</td>\n",
       "      <td>1000.000000</td>\n",
       "      <td>1000.000000</td>\n",
       "      <td>1000.000000</td>\n",
       "    </tr>\n",
       "    <tr>\n",
       "      <th>mean</th>\n",
       "      <td>35.546000</td>\n",
       "      <td>1.904000</td>\n",
       "      <td>3271.258000</td>\n",
       "      <td>20.903000</td>\n",
       "    </tr>\n",
       "    <tr>\n",
       "      <th>std</th>\n",
       "      <td>11.375469</td>\n",
       "      <td>0.653614</td>\n",
       "      <td>2822.736876</td>\n",
       "      <td>12.058814</td>\n",
       "    </tr>\n",
       "    <tr>\n",
       "      <th>min</th>\n",
       "      <td>19.000000</td>\n",
       "      <td>0.000000</td>\n",
       "      <td>250.000000</td>\n",
       "      <td>4.000000</td>\n",
       "    </tr>\n",
       "    <tr>\n",
       "      <th>25%</th>\n",
       "      <td>27.000000</td>\n",
       "      <td>2.000000</td>\n",
       "      <td>1365.500000</td>\n",
       "      <td>12.000000</td>\n",
       "    </tr>\n",
       "    <tr>\n",
       "      <th>50%</th>\n",
       "      <td>33.000000</td>\n",
       "      <td>2.000000</td>\n",
       "      <td>2319.500000</td>\n",
       "      <td>18.000000</td>\n",
       "    </tr>\n",
       "    <tr>\n",
       "      <th>75%</th>\n",
       "      <td>42.000000</td>\n",
       "      <td>2.000000</td>\n",
       "      <td>3972.250000</td>\n",
       "      <td>24.000000</td>\n",
       "    </tr>\n",
       "    <tr>\n",
       "      <th>max</th>\n",
       "      <td>75.000000</td>\n",
       "      <td>3.000000</td>\n",
       "      <td>18424.000000</td>\n",
       "      <td>72.000000</td>\n",
       "    </tr>\n",
       "  </tbody>\n",
       "</table>\n",
       "</div>"
      ],
      "text/plain": [
       "               Age          Job  Credit amount     Duration\n",
       "count  1000.000000  1000.000000    1000.000000  1000.000000\n",
       "mean     35.546000     1.904000    3271.258000    20.903000\n",
       "std      11.375469     0.653614    2822.736876    12.058814\n",
       "min      19.000000     0.000000     250.000000     4.000000\n",
       "25%      27.000000     2.000000    1365.500000    12.000000\n",
       "50%      33.000000     2.000000    2319.500000    18.000000\n",
       "75%      42.000000     2.000000    3972.250000    24.000000\n",
       "max      75.000000     3.000000   18424.000000    72.000000"
      ]
     },
     "execution_count": 8,
     "metadata": {},
     "output_type": "execute_result"
    }
   ],
   "source": [
    "df.describe()"
   ]
  },
  {
   "cell_type": "markdown",
   "id": "ae757886",
   "metadata": {
    "id": "ae757886"
   },
   "source": [
    "Mean age is 35.5 years. Median age is 33 years."
   ]
  },
  {
   "cell_type": "code",
   "execution_count": 9,
   "id": "764d06ef",
   "metadata": {
    "colab": {
     "base_uri": "https://localhost:8080/",
     "height": 296
    },
    "id": "764d06ef",
    "outputId": "b19c84ec-b6aa-4d1d-b759-6edfc7c69eef",
    "scrolled": true
   },
   "outputs": [
    {
     "data": {
      "text/plain": [
       "<AxesSubplot:xlabel='Age', ylabel='Count'>"
      ]
     },
     "execution_count": 9,
     "metadata": {},
     "output_type": "execute_result"
    },
    {
     "data": {
      "image/png": "[encoded data removed]",
      "text/plain": [
       "<Figure size 432x288 with 1 Axes>"
      ]
     },
     "metadata": {
      "needs_background": "light"
     },
     "output_type": "display_data"
    }
   ],
   "source": [
    "sns.histplot(df.Age)"
   ]
  },
  {
   "cell_type": "markdown",
   "id": "92130275",
   "metadata": {
    "id": "92130275"
   },
   "source": [
    "Check the distributions of the variables"
   ]
  },
  {
   "cell_type": "code",
   "execution_count": 10,
   "id": "a6689f63",
   "metadata": {
    "colab": {
     "base_uri": "https://localhost:8080/",
     "height": 298
    },
    "id": "a6689f63",
    "outputId": "b05d313e-eb15-4825-e7e5-2181865e17b1"
   },
   "outputs": [
    {
     "data": {
      "text/plain": [
       "<AxesSubplot:xlabel='Age', ylabel='Density'>"
      ]
     },
     "execution_count": 10,
     "metadata": {},
     "output_type": "execute_result"
    },
    {
     "data": {
      "image/png": "[encoded data removed]",
      "text/plain": [
       "<Figure size 432x288 with 1 Axes>"
      ]
     },
     "metadata": {
      "needs_background": "light"
     },
     "output_type": "display_data"
    }
   ],
   "source": [
    "sns.distplot(df[\"Age\"])"
   ]
  },
  {
   "cell_type": "code",
   "execution_count": 11,
   "id": "8a827324",
   "metadata": {
    "colab": {
     "base_uri": "https://localhost:8080/",
     "height": 296
    },
    "id": "8a827324",
    "outputId": "4a0c694b-f9fd-49d2-8fe3-0598cd556c0c"
   },
   "outputs": [
    {
     "data": {
      "text/plain": [
       "<AxesSubplot:xlabel='Credit amount', ylabel='Density'>"
      ]
     },
     "execution_count": 11,
     "metadata": {},
     "output_type": "execute_result"
    },
    {
     "data": {
      "image/png": "[encoded data removed]",
      "text/plain": [
       "<Figure size 432x288 with 1 Axes>"
      ]
     },
     "metadata": {
      "needs_background": "light"
     },
     "output_type": "display_data"
    }
   ],
   "source": [
    "sns.distplot(df[\"Credit amount\"])"
   ]
  },
  {
   "cell_type": "code",
   "execution_count": 12,
   "id": "ae5083f7",
   "metadata": {
    "colab": {
     "base_uri": "https://localhost:8080/",
     "height": 296
    },
    "id": "ae5083f7",
    "outputId": "25970bf8-0e61-4441-a379-485a30eb30a6"
   },
   "outputs": [
    {
     "data": {
      "text/plain": [
       "<AxesSubplot:xlabel='Duration', ylabel='Density'>"
      ]
     },
     "execution_count": 12,
     "metadata": {},
     "output_type": "execute_result"
    },
    {
     "data": {
      "image/png": "[encoded data removed]",
      "text/plain": [
       "<Figure size 432x288 with 1 Axes>"
      ]
     },
     "metadata": {
      "needs_background": "light"
     },
     "output_type": "display_data"
    }
   ],
   "source": [
    "sns.distplot(df[\"Duration\"])"
   ]
  },
  {
   "cell_type": "markdown",
   "id": "d8cb1d11",
   "metadata": {
    "id": "d8cb1d11"
   },
   "source": [
    "Data is right-skewed. We will use log transform and check the distributions again."
   ]
  },
  {
   "cell_type": "markdown",
   "id": "4d9bb1ee",
   "metadata": {
    "id": "4d9bb1ee"
   },
   "source": [
    "### Outlier detection and log tansformation"
   ]
  },
  {
   "cell_type": "code",
   "execution_count": 13,
   "id": "c545cf6a",
   "metadata": {
    "id": "c545cf6a"
   },
   "outputs": [],
   "source": [
    "cols_to_transform = [\"Age\",\"Credit amount\", \"Duration\"]\n",
    "data_to_transform = df.loc[:,cols_to_transform]\n",
    "\n",
    "transformed_data = np.log(data_to_transform)"
   ]
  },
  {
   "cell_type": "markdown",
   "id": "d2aedd18",
   "metadata": {
    "id": "d2aedd18"
   },
   "source": [
    "Before we transform the data, it would be good to look if there are outliers."
   ]
  },
  {
   "cell_type": "code",
   "execution_count": 14,
   "id": "14ccaadc",
   "metadata": {
    "colab": {
     "base_uri": "https://localhost:8080/",
     "height": 0
    },
    "id": "14ccaadc",
    "outputId": "fd64e76b-b369-459d-ee01-6ccc2f3b9800",
    "scrolled": true
   },
   "outputs": [
    {
     "data": {
      "text/plain": [
       "<AxesSubplot:>"
      ]
     },
     "execution_count": 14,
     "metadata": {},
     "output_type": "execute_result"
    },
    {
     "data": {
      "image/png": "[encoded data removed]",
      "text/plain": [
       "<Figure size 1152x432 with 1 Axes>"
      ]
     },
     "metadata": {
      "needs_background": "light"
     },
     "output_type": "display_data"
    }
   ],
   "source": [
    "plt.figure(figsize=(16, 6))\n",
    "sns.boxplot(data=data_to_transform)"
   ]
  },
  {
   "cell_type": "code",
   "execution_count": 15,
   "id": "ddaafd99",
   "metadata": {
    "id": "ddaafd99"
   },
   "outputs": [],
   "source": [
    "def remove_outlier(df_in, col_name):\n",
    "    q1 = df_in[col_name].quantile(0.25)\n",
    "    q3 = df_in[col_name].quantile(0.75)\n",
    "    iqr = q3-q1 #Interquartile range\n",
    "    fence_low  = q1-1.5*iqr\n",
    "    fence_high = q3+1.5*iqr\n",
    "    df_out = df_in.loc[(df_in[col_name] > fence_low) & (df_in[col_name] < fence_high)]\n",
    "    return df_out\n",
    "\n",
    "# data_to_transform = remove_outlier(data_to_transform, \"Credit amount\")"
   ]
  },
  {
   "cell_type": "code",
   "execution_count": 16,
   "id": "9532ee14",
   "metadata": {
    "id": "9532ee14"
   },
   "outputs": [],
   "source": [
    "#plt.figure(figsize=(16, 6))\n",
    "#sns.boxplot(data=data_to_transform)"
   ]
  },
  {
   "cell_type": "markdown",
   "id": "7a945264",
   "metadata": {
    "id": "7a945264"
   },
   "source": [
    "Even though there are outliers, I believe removing them would be counterproductive, because the data is probably correct."
   ]
  },
  {
   "cell_type": "code",
   "execution_count": 17,
   "id": "dc2f385f",
   "metadata": {
    "colab": {
     "base_uri": "https://localhost:8080/",
     "height": 0
    },
    "id": "dc2f385f",
    "outputId": "a917cc7f-b269-4a20-8a86-1104eed1735a"
   },
   "outputs": [
    {
     "data": {
      "text/plain": [
       "<AxesSubplot:xlabel='Age', ylabel='Density'>"
      ]
     },
     "execution_count": 17,
     "metadata": {},
     "output_type": "execute_result"
    },
    {
     "data": {
      "image/png": "[encoded data removed]",
      "text/plain": [
       "<Figure size 432x288 with 1 Axes>"
      ]
     },
     "metadata": {
      "needs_background": "light"
     },
     "output_type": "display_data"
    }
   ],
   "source": [
    "sns.distplot(transformed_data[\"Age\"])"
   ]
  },
  {
   "cell_type": "code",
   "execution_count": 18,
   "id": "ada3c8da",
   "metadata": {
    "colab": {
     "base_uri": "https://localhost:8080/",
     "height": 0
    },
    "id": "ada3c8da",
    "outputId": "56170876-be19-482a-992b-008272e63056"
   },
   "outputs": [
    {
     "data": {
      "text/plain": [
       "<AxesSubplot:xlabel='Credit amount', ylabel='Density'>"
      ]
     },
     "execution_count": 18,
     "metadata": {},
     "output_type": "execute_result"
    },
    {
     "data": {
      "image/png": "[encoded data removed]",
      "text/plain": [
       "<Figure size 432x288 with 1 Axes>"
      ]
     },
     "metadata": {
      "needs_background": "light"
     },
     "output_type": "display_data"
    }
   ],
   "source": [
    "sns.distplot(transformed_data[\"Credit amount\"])"
   ]
  },
  {
   "cell_type": "code",
   "execution_count": 19,
   "id": "f51839da",
   "metadata": {
    "colab": {
     "base_uri": "https://localhost:8080/",
     "height": 0
    },
    "id": "f51839da",
    "outputId": "da8bda3d-1c9b-4765-e582-cb5a218b0e69"
   },
   "outputs": [
    {
     "data": {
      "text/plain": [
       "<AxesSubplot:xlabel='Duration', ylabel='Density'>"
      ]
     },
     "execution_count": 19,
     "metadata": {},
     "output_type": "execute_result"
    },
    {
     "data": {
      "image/png": "[encoded data removed]",
      "text/plain": [
       "<Figure size 432x288 with 1 Axes>"
      ]
     },
     "metadata": {
      "needs_background": "light"
     },
     "output_type": "display_data"
    }
   ],
   "source": [
    "sns.distplot(transformed_data[\"Duration\"])"
   ]
  },
  {
   "cell_type": "code",
   "execution_count": 20,
   "id": "d97c5463",
   "metadata": {
    "id": "d97c5463"
   },
   "outputs": [],
   "source": [
    "df[\"Age\"] = transformed_data[\"Age\"]\n",
    "df[\"Credit amount\"] = transformed_data[\"Credit amount\"]\n",
    "df[\"Duration\"] = transformed_data[\"Duration\"]"
   ]
  },
  {
   "cell_type": "markdown",
   "id": "82341192",
   "metadata": {
    "id": "82341192"
   },
   "source": [
    "We have log-transformed the data. The distribution is no longer right skewed - the data has been normalized. Let's take a look at the categorical variables."
   ]
  },
  {
   "cell_type": "markdown",
   "id": "2bed5b23",
   "metadata": {
    "id": "2bed5b23"
   },
   "source": [
    "### One-Hot Encoding"
   ]
  },
  {
   "cell_type": "markdown",
   "id": "98aa5364",
   "metadata": {
    "id": "98aa5364"
   },
   "source": [
    "Let's one-hot encode the categorical variables. We have to use some kind of encoding to make sure the model accepts the data (xgboost won't work with String datatypes in the columns containing categorical data). This is also done to make sure there isn't any \"hidden\" relationship between values in categorical columns the model could see."
   ]
  },
  {
   "cell_type": "code",
   "execution_count": 21,
   "id": "871fd55f",
   "metadata": {
    "colab": {
     "base_uri": "https://localhost:8080/",
     "height": 0
    },
    "id": "871fd55f",
    "outputId": "3018a4fa-a749-485e-c48c-8ea31bf07281"
   },
   "outputs": [
    {
     "data": {
      "text/html": [
       "<div>\n",
       "<style scoped>\n",
       "    .dataframe tbody tr th:only-of-type {\n",
       "        vertical-align: middle;\n",
       "    }\n",
       "\n",
       "    .dataframe tbody tr th {\n",
       "        vertical-align: top;\n",
       "    }\n",
       "\n",
       "    .dataframe thead th {\n",
       "        text-align: right;\n",
       "    }\n",
       "</style>\n",
       "<table border=\"1\" class=\"dataframe\">\n",
       "  <thead>\n",
       "    <tr style=\"text-align: right;\">\n",
       "      <th></th>\n",
       "      <th>Age</th>\n",
       "      <th>Sex</th>\n",
       "      <th>Job</th>\n",
       "      <th>Housing</th>\n",
       "      <th>Saving accounts</th>\n",
       "      <th>Checking account</th>\n",
       "      <th>Credit amount</th>\n",
       "      <th>Duration</th>\n",
       "      <th>Purpose</th>\n",
       "      <th>Risk</th>\n",
       "    </tr>\n",
       "  </thead>\n",
       "  <tbody>\n",
       "    <tr>\n",
       "      <th>0</th>\n",
       "      <td>4.204693</td>\n",
       "      <td>male</td>\n",
       "      <td>2</td>\n",
       "      <td>own</td>\n",
       "      <td>none</td>\n",
       "      <td>little</td>\n",
       "      <td>7.063904</td>\n",
       "      <td>1.791759</td>\n",
       "      <td>radio/TV</td>\n",
       "      <td>good</td>\n",
       "    </tr>\n",
       "  </tbody>\n",
       "</table>\n",
       "</div>"
      ],
      "text/plain": [
       "        Age   Sex  Job Housing Saving accounts Checking account  \\\n",
       "0  4.204693  male    2     own            none           little   \n",
       "\n",
       "   Credit amount  Duration   Purpose  Risk  \n",
       "0       7.063904  1.791759  radio/TV  good  "
      ]
     },
     "execution_count": 21,
     "metadata": {},
     "output_type": "execute_result"
    }
   ],
   "source": [
    "df.head(1)"
   ]
  },
  {
   "cell_type": "code",
   "execution_count": 22,
   "id": "2155df87",
   "metadata": {
    "id": "2155df87"
   },
   "outputs": [],
   "source": [
    "categorical_cols = ['Sex', 'Job', 'Housing', 'Saving accounts', 'Checking account', 'Purpose'] "
   ]
  },
  {
   "cell_type": "code",
   "execution_count": 23,
   "id": "55c33519",
   "metadata": {
    "id": "55c33519"
   },
   "outputs": [],
   "source": [
    "df_one_hot_encoded = pd.get_dummies(df, columns = categorical_cols)"
   ]
  },
  {
   "cell_type": "code",
   "execution_count": 24,
   "id": "fc064a8e",
   "metadata": {
    "colab": {
     "base_uri": "https://localhost:8080/",
     "height": 0
    },
    "id": "fc064a8e",
    "outputId": "5cc0e175-2152-46f9-f0bd-ee9248fa4264"
   },
   "outputs": [
    {
     "data": {
      "text/html": [
       "<div>\n",
       "<style scoped>\n",
       "    .dataframe tbody tr th:only-of-type {\n",
       "        vertical-align: middle;\n",
       "    }\n",
       "\n",
       "    .dataframe tbody tr th {\n",
       "        vertical-align: top;\n",
       "    }\n",
       "\n",
       "    .dataframe thead th {\n",
       "        text-align: right;\n",
       "    }\n",
       "</style>\n",
       "<table border=\"1\" class=\"dataframe\">\n",
       "  <thead>\n",
       "    <tr style=\"text-align: right;\">\n",
       "      <th></th>\n",
       "      <th>Age</th>\n",
       "      <th>Credit amount</th>\n",
       "      <th>Duration</th>\n",
       "      <th>Risk</th>\n",
       "      <th>Sex_female</th>\n",
       "      <th>Sex_male</th>\n",
       "      <th>Job_0</th>\n",
       "      <th>Job_1</th>\n",
       "      <th>Job_2</th>\n",
       "      <th>Job_3</th>\n",
       "      <th>...</th>\n",
       "      <th>Checking account_none</th>\n",
       "      <th>Checking account_rich</th>\n",
       "      <th>Purpose_business</th>\n",
       "      <th>Purpose_car</th>\n",
       "      <th>Purpose_domestic appliances</th>\n",
       "      <th>Purpose_education</th>\n",
       "      <th>Purpose_furniture/equipment</th>\n",
       "      <th>Purpose_radio/TV</th>\n",
       "      <th>Purpose_repairs</th>\n",
       "      <th>Purpose_vacation/others</th>\n",
       "    </tr>\n",
       "  </thead>\n",
       "  <tbody>\n",
       "    <tr>\n",
       "      <th>0</th>\n",
       "      <td>4.204693</td>\n",
       "      <td>7.063904</td>\n",
       "      <td>1.791759</td>\n",
       "      <td>good</td>\n",
       "      <td>0</td>\n",
       "      <td>1</td>\n",
       "      <td>0</td>\n",
       "      <td>0</td>\n",
       "      <td>1</td>\n",
       "      <td>0</td>\n",
       "      <td>...</td>\n",
       "      <td>0</td>\n",
       "      <td>0</td>\n",
       "      <td>0</td>\n",
       "      <td>0</td>\n",
       "      <td>0</td>\n",
       "      <td>0</td>\n",
       "      <td>0</td>\n",
       "      <td>1</td>\n",
       "      <td>0</td>\n",
       "      <td>0</td>\n",
       "    </tr>\n",
       "  </tbody>\n",
       "</table>\n",
       "<p>1 rows × 30 columns</p>\n",
       "</div>"
      ],
      "text/plain": [
       "        Age  Credit amount  Duration  Risk  Sex_female  Sex_male  Job_0  \\\n",
       "0  4.204693       7.063904  1.791759  good           0         1      0   \n",
       "\n",
       "   Job_1  Job_2  Job_3  ...  Checking account_none  Checking account_rich  \\\n",
       "0      0      1      0  ...                      0                      0   \n",
       "\n",
       "   Purpose_business  Purpose_car  Purpose_domestic appliances  \\\n",
       "0                 0            0                            0   \n",
       "\n",
       "   Purpose_education  Purpose_furniture/equipment  Purpose_radio/TV  \\\n",
       "0                  0                            0                 1   \n",
       "\n",
       "   Purpose_repairs  Purpose_vacation/others  \n",
       "0                0                        0  \n",
       "\n",
       "[1 rows x 30 columns]"
      ]
     },
     "execution_count": 24,
     "metadata": {},
     "output_type": "execute_result"
    }
   ],
   "source": [
    "df_one_hot_encoded.head(1)"
   ]
  },
  {
   "cell_type": "markdown",
   "id": "86523b88",
   "metadata": {
    "id": "86523b88"
   },
   "source": [
    "Put the one-hot encoded variables back into our original dataframe."
   ]
  },
  {
   "cell_type": "code",
   "execution_count": 25,
   "id": "8a0221d4",
   "metadata": {
    "id": "8a0221d4"
   },
   "outputs": [],
   "source": [
    "df = df_one_hot_encoded"
   ]
  },
  {
   "cell_type": "markdown",
   "id": "aaf7a9f5",
   "metadata": {
    "id": "aaf7a9f5"
   },
   "source": [
    "### Feature Scaling"
   ]
  },
  {
   "cell_type": "markdown",
   "id": "a8e185ad",
   "metadata": {
    "id": "a8e185ad"
   },
   "source": [
    "Let's scale the continuous features using StandardScaler (since we already looked at the distributions and applied log transform, we know the data is not right skewed and resembles gaussian distribution, this seems like a good choice."
   ]
  },
  {
   "cell_type": "code",
   "execution_count": 26,
   "id": "00dd52c1",
   "metadata": {
    "colab": {
     "base_uri": "https://localhost:8080/",
     "height": 0
    },
    "id": "00dd52c1",
    "outputId": "e0fdae70-8b6d-4a2f-8673-ca5f63dfec31"
   },
   "outputs": [
    {
     "data": {
      "text/html": [
       "<div>\n",
       "<style scoped>\n",
       "    .dataframe tbody tr th:only-of-type {\n",
       "        vertical-align: middle;\n",
       "    }\n",
       "\n",
       "    .dataframe tbody tr th {\n",
       "        vertical-align: top;\n",
       "    }\n",
       "\n",
       "    .dataframe thead th {\n",
       "        text-align: right;\n",
       "    }\n",
       "</style>\n",
       "<table border=\"1\" class=\"dataframe\">\n",
       "  <thead>\n",
       "    <tr style=\"text-align: right;\">\n",
       "      <th></th>\n",
       "      <th>Age</th>\n",
       "      <th>Credit amount</th>\n",
       "      <th>Duration</th>\n",
       "    </tr>\n",
       "  </thead>\n",
       "  <tbody>\n",
       "    <tr>\n",
       "      <th>0</th>\n",
       "      <td>4.204693</td>\n",
       "      <td>7.063904</td>\n",
       "      <td>1.791759</td>\n",
       "    </tr>\n",
       "    <tr>\n",
       "      <th>1</th>\n",
       "      <td>3.091042</td>\n",
       "      <td>8.691315</td>\n",
       "      <td>3.871201</td>\n",
       "    </tr>\n",
       "    <tr>\n",
       "      <th>2</th>\n",
       "      <td>3.891820</td>\n",
       "      <td>7.647786</td>\n",
       "      <td>2.484907</td>\n",
       "    </tr>\n",
       "    <tr>\n",
       "      <th>3</th>\n",
       "      <td>3.806662</td>\n",
       "      <td>8.972337</td>\n",
       "      <td>3.737670</td>\n",
       "    </tr>\n",
       "    <tr>\n",
       "      <th>4</th>\n",
       "      <td>3.970292</td>\n",
       "      <td>8.490849</td>\n",
       "      <td>3.178054</td>\n",
       "    </tr>\n",
       "  </tbody>\n",
       "</table>\n",
       "</div>"
      ],
      "text/plain": [
       "        Age  Credit amount  Duration\n",
       "0  4.204693       7.063904  1.791759\n",
       "1  3.091042       8.691315  3.871201\n",
       "2  3.891820       7.647786  2.484907\n",
       "3  3.806662       8.972337  3.737670\n",
       "4  3.970292       8.490849  3.178054"
      ]
     },
     "execution_count": 26,
     "metadata": {},
     "output_type": "execute_result"
    }
   ],
   "source": [
    "continuous_features = ['Age', 'Credit amount', 'Duration']\n",
    "df_no_cat = df[continuous_features]\n",
    "df_no_cat.head()"
   ]
  },
  {
   "cell_type": "code",
   "execution_count": 27,
   "id": "828ab2b4",
   "metadata": {
    "id": "828ab2b4",
    "scrolled": true
   },
   "outputs": [],
   "source": [
    "df_scaled_no_cat = StandardScaler().fit_transform(df_no_cat)"
   ]
  },
  {
   "cell_type": "code",
   "execution_count": 28,
   "id": "11ec481a",
   "metadata": {
    "colab": {
     "base_uri": "https://localhost:8080/",
     "height": 0
    },
    "id": "11ec481a",
    "outputId": "956951fd-a334-4790-9e80-3e050ae91f2f",
    "scrolled": true
   },
   "outputs": [
    {
     "data": {
      "image/png": "[encoded data removed]",
      "text/plain": [
       "<Figure size 432x288 with 1 Axes>"
      ]
     },
     "metadata": {
      "needs_background": "light"
     },
     "output_type": "display_data"
    }
   ],
   "source": [
    "pd.DataFrame(df_scaled_no_cat).plot(kind='kde');"
   ]
  },
  {
   "cell_type": "code",
   "execution_count": 29,
   "id": "4c3521e3",
   "metadata": {
    "colab": {
     "base_uri": "https://localhost:8080/",
     "height": 0
    },
    "id": "4c3521e3",
    "outputId": "dee4c784-3600-4b74-b139-71d87a9e31c2"
   },
   "outputs": [
    {
     "data": {
      "text/html": [
       "<div>\n",
       "<style scoped>\n",
       "    .dataframe tbody tr th:only-of-type {\n",
       "        vertical-align: middle;\n",
       "    }\n",
       "\n",
       "    .dataframe tbody tr th {\n",
       "        vertical-align: top;\n",
       "    }\n",
       "\n",
       "    .dataframe thead th {\n",
       "        text-align: right;\n",
       "    }\n",
       "</style>\n",
       "<table border=\"1\" class=\"dataframe\">\n",
       "  <thead>\n",
       "    <tr style=\"text-align: right;\">\n",
       "      <th></th>\n",
       "      <th>0</th>\n",
       "      <th>1</th>\n",
       "      <th>2</th>\n",
       "    </tr>\n",
       "  </thead>\n",
       "  <tbody>\n",
       "    <tr>\n",
       "      <th>count</th>\n",
       "      <td>1.000000e+03</td>\n",
       "      <td>1.000000e+03</td>\n",
       "      <td>1.000000e+03</td>\n",
       "    </tr>\n",
       "    <tr>\n",
       "      <th>mean</th>\n",
       "      <td>1.072920e-15</td>\n",
       "      <td>2.877698e-16</td>\n",
       "      <td>-4.618528e-17</td>\n",
       "    </tr>\n",
       "    <tr>\n",
       "      <th>std</th>\n",
       "      <td>1.000500e+00</td>\n",
       "      <td>1.000500e+00</td>\n",
       "      <td>1.000500e+00</td>\n",
       "    </tr>\n",
       "    <tr>\n",
       "      <th>min</th>\n",
       "      <td>-1.935487e+00</td>\n",
       "      <td>-2.921366e+00</td>\n",
       "      <td>-2.561606e+00</td>\n",
       "    </tr>\n",
       "    <tr>\n",
       "      <th>25%</th>\n",
       "      <td>-7.625864e-01</td>\n",
       "      <td>-7.337018e-01</td>\n",
       "      <td>-6.737898e-01</td>\n",
       "    </tr>\n",
       "    <tr>\n",
       "      <th>50%</th>\n",
       "      <td>-9.278474e-02</td>\n",
       "      <td>-5.100511e-02</td>\n",
       "      <td>2.294689e-02</td>\n",
       "    </tr>\n",
       "    <tr>\n",
       "      <th>75%</th>\n",
       "      <td>7.121696e-01</td>\n",
       "      <td>6.421928e-01</td>\n",
       "      <td>5.172894e-01</td>\n",
       "    </tr>\n",
       "    <tr>\n",
       "      <th>max</th>\n",
       "      <td>2.647496e+00</td>\n",
       "      <td>2.619193e+00</td>\n",
       "      <td>2.405105e+00</td>\n",
       "    </tr>\n",
       "  </tbody>\n",
       "</table>\n",
       "</div>"
      ],
      "text/plain": [
       "                  0             1             2\n",
       "count  1.000000e+03  1.000000e+03  1.000000e+03\n",
       "mean   1.072920e-15  2.877698e-16 -4.618528e-17\n",
       "std    1.000500e+00  1.000500e+00  1.000500e+00\n",
       "min   -1.935487e+00 -2.921366e+00 -2.561606e+00\n",
       "25%   -7.625864e-01 -7.337018e-01 -6.737898e-01\n",
       "50%   -9.278474e-02 -5.100511e-02  2.294689e-02\n",
       "75%    7.121696e-01  6.421928e-01  5.172894e-01\n",
       "max    2.647496e+00  2.619193e+00  2.405105e+00"
      ]
     },
     "execution_count": 29,
     "metadata": {},
     "output_type": "execute_result"
    }
   ],
   "source": [
    "pd.DataFrame(df_scaled_no_cat).describe()"
   ]
  },
  {
   "cell_type": "code",
   "execution_count": 30,
   "id": "2454d75b",
   "metadata": {
    "colab": {
     "base_uri": "https://localhost:8080/",
     "height": 0
    },
    "id": "2454d75b",
    "outputId": "2f2843f6-4026-4f9c-bac4-8ec899649325"
   },
   "outputs": [
    {
     "data": {
      "text/html": [
       "<div>\n",
       "<style scoped>\n",
       "    .dataframe tbody tr th:only-of-type {\n",
       "        vertical-align: middle;\n",
       "    }\n",
       "\n",
       "    .dataframe tbody tr th {\n",
       "        vertical-align: top;\n",
       "    }\n",
       "\n",
       "    .dataframe thead th {\n",
       "        text-align: right;\n",
       "    }\n",
       "</style>\n",
       "<table border=\"1\" class=\"dataframe\">\n",
       "  <thead>\n",
       "    <tr style=\"text-align: right;\">\n",
       "      <th></th>\n",
       "      <th>0</th>\n",
       "      <th>1</th>\n",
       "      <th>2</th>\n",
       "    </tr>\n",
       "  </thead>\n",
       "  <tbody>\n",
       "    <tr>\n",
       "      <th>0</th>\n",
       "      <td>2.271006</td>\n",
       "      <td>-0.933901</td>\n",
       "      <td>-1.864869</td>\n",
       "    </tr>\n",
       "    <tr>\n",
       "      <th>1</th>\n",
       "      <td>-1.446152</td>\n",
       "      <td>1.163046</td>\n",
       "      <td>1.708369</td>\n",
       "    </tr>\n",
       "    <tr>\n",
       "      <th>2</th>\n",
       "      <td>1.226696</td>\n",
       "      <td>-0.181559</td>\n",
       "      <td>-0.673790</td>\n",
       "    </tr>\n",
       "    <tr>\n",
       "      <th>3</th>\n",
       "      <td>0.942455</td>\n",
       "      <td>1.525148</td>\n",
       "      <td>1.478913</td>\n",
       "    </tr>\n",
       "    <tr>\n",
       "      <th>4</th>\n",
       "      <td>1.488620</td>\n",
       "      <td>0.904743</td>\n",
       "      <td>0.517289</td>\n",
       "    </tr>\n",
       "  </tbody>\n",
       "</table>\n",
       "</div>"
      ],
      "text/plain": [
       "          0         1         2\n",
       "0  2.271006 -0.933901 -1.864869\n",
       "1 -1.446152  1.163046  1.708369\n",
       "2  1.226696 -0.181559 -0.673790\n",
       "3  0.942455  1.525148  1.478913\n",
       "4  1.488620  0.904743  0.517289"
      ]
     },
     "execution_count": 30,
     "metadata": {},
     "output_type": "execute_result"
    }
   ],
   "source": [
    "pd.DataFrame(df_scaled_no_cat).head()"
   ]
  },
  {
   "cell_type": "markdown",
   "id": "8f69cc77",
   "metadata": {
    "id": "8f69cc77"
   },
   "source": [
    "Looks like the data is scaled. Let's put the scaled data back to our original dataframe."
   ]
  },
  {
   "cell_type": "code",
   "execution_count": 31,
   "id": "1a3f4cd2",
   "metadata": {
    "colab": {
     "base_uri": "https://localhost:8080/",
     "height": 0
    },
    "id": "1a3f4cd2",
    "outputId": "febf34f9-f41e-465b-d16a-8021f0d4339a"
   },
   "outputs": [
    {
     "data": {
      "text/html": [
       "<div>\n",
       "<style scoped>\n",
       "    .dataframe tbody tr th:only-of-type {\n",
       "        vertical-align: middle;\n",
       "    }\n",
       "\n",
       "    .dataframe tbody tr th {\n",
       "        vertical-align: top;\n",
       "    }\n",
       "\n",
       "    .dataframe thead th {\n",
       "        text-align: right;\n",
       "    }\n",
       "</style>\n",
       "<table border=\"1\" class=\"dataframe\">\n",
       "  <thead>\n",
       "    <tr style=\"text-align: right;\">\n",
       "      <th></th>\n",
       "      <th>Age</th>\n",
       "      <th>Credit amount</th>\n",
       "      <th>Duration</th>\n",
       "      <th>Risk</th>\n",
       "      <th>Sex_female</th>\n",
       "      <th>Sex_male</th>\n",
       "      <th>Job_0</th>\n",
       "      <th>Job_1</th>\n",
       "      <th>Job_2</th>\n",
       "      <th>Job_3</th>\n",
       "      <th>...</th>\n",
       "      <th>Checking account_none</th>\n",
       "      <th>Checking account_rich</th>\n",
       "      <th>Purpose_business</th>\n",
       "      <th>Purpose_car</th>\n",
       "      <th>Purpose_domestic appliances</th>\n",
       "      <th>Purpose_education</th>\n",
       "      <th>Purpose_furniture/equipment</th>\n",
       "      <th>Purpose_radio/TV</th>\n",
       "      <th>Purpose_repairs</th>\n",
       "      <th>Purpose_vacation/others</th>\n",
       "    </tr>\n",
       "  </thead>\n",
       "  <tbody>\n",
       "    <tr>\n",
       "      <th>0</th>\n",
       "      <td>2.271006</td>\n",
       "      <td>-0.933901</td>\n",
       "      <td>-1.864869</td>\n",
       "      <td>good</td>\n",
       "      <td>0</td>\n",
       "      <td>1</td>\n",
       "      <td>0</td>\n",
       "      <td>0</td>\n",
       "      <td>1</td>\n",
       "      <td>0</td>\n",
       "      <td>...</td>\n",
       "      <td>0</td>\n",
       "      <td>0</td>\n",
       "      <td>0</td>\n",
       "      <td>0</td>\n",
       "      <td>0</td>\n",
       "      <td>0</td>\n",
       "      <td>0</td>\n",
       "      <td>1</td>\n",
       "      <td>0</td>\n",
       "      <td>0</td>\n",
       "    </tr>\n",
       "  </tbody>\n",
       "</table>\n",
       "<p>1 rows × 30 columns</p>\n",
       "</div>"
      ],
      "text/plain": [
       "        Age  Credit amount  Duration  Risk  Sex_female  Sex_male  Job_0  \\\n",
       "0  2.271006      -0.933901 -1.864869  good           0         1      0   \n",
       "\n",
       "   Job_1  Job_2  Job_3  ...  Checking account_none  Checking account_rich  \\\n",
       "0      0      1      0  ...                      0                      0   \n",
       "\n",
       "   Purpose_business  Purpose_car  Purpose_domestic appliances  \\\n",
       "0                 0            0                            0   \n",
       "\n",
       "   Purpose_education  Purpose_furniture/equipment  Purpose_radio/TV  \\\n",
       "0                  0                            0                 1   \n",
       "\n",
       "   Purpose_repairs  Purpose_vacation/others  \n",
       "0                0                        0  \n",
       "\n",
       "[1 rows x 30 columns]"
      ]
     },
     "execution_count": 31,
     "metadata": {},
     "output_type": "execute_result"
    }
   ],
   "source": [
    "norm_df = pd.DataFrame(df_scaled_no_cat, columns=continuous_features)\n",
    "df[\"Age\"] = norm_df[\"Age\"]\n",
    "df[\"Credit amount\"] = norm_df[\"Credit amount\"]\n",
    "df[\"Duration\"] = norm_df[\"Duration\"]\n",
    "\n",
    "df.head(1)"
   ]
  },
  {
   "cell_type": "markdown",
   "id": "057ab1e8",
   "metadata": {
    "id": "057ab1e8"
   },
   "source": [
    "### Elbow Method"
   ]
  },
  {
   "cell_type": "markdown",
   "id": "9ee9b5de",
   "metadata": {
    "id": "9ee9b5de"
   },
   "source": [
    "We'll use the elbow method to find the optimal K value for the K-Means."
   ]
  },
  {
   "cell_type": "code",
   "execution_count": 32,
   "id": "1b8252d2",
   "metadata": {
    "id": "1b8252d2"
   },
   "outputs": [],
   "source": [
    "Sum_of_squared_distances = []\n",
    "K = range(1,15)\n",
    "for k in K:\n",
    "    km = KMeans(n_clusters=k)\n",
    "    km = km.fit(df_scaled_no_cat)\n",
    "    Sum_of_squared_distances.append(km.inertia_)"
   ]
  },
  {
   "cell_type": "code",
   "execution_count": 33,
   "id": "7a19435c",
   "metadata": {
    "colab": {
     "base_uri": "https://localhost:8080/",
     "height": 241
    },
    "id": "7a19435c",
    "outputId": "936c17ef-4e81-4c05-c2b5-ce4e5fb56920"
   },
   "outputs": [
    {
     "data": {
      "image/png": "[encoded data removed]",
      "text/plain": [
       "<Figure size 1152x216 with 1 Axes>"
      ]
     },
     "metadata": {
      "needs_background": "light"
     },
     "output_type": "display_data"
    }
   ],
   "source": [
    "plt.figure(figsize=(16,3))\n",
    "plt.plot(K, Sum_of_squared_distances, 'bx-')\n",
    "plt.xlabel('k')\n",
    "plt.ylabel('Sum of squared distances')\n",
    "plt.title('Elbow Method For Optimal k')\n",
    "plt.xticks(K)\n",
    "plt.show()"
   ]
  },
  {
   "cell_type": "markdown",
   "id": "aca3e5b6",
   "metadata": {
    "id": "aca3e5b6"
   },
   "source": [
    "We can see that the optimal K value is 3."
   ]
  },
  {
   "cell_type": "markdown",
   "id": "d49b8f22",
   "metadata": {
    "id": "d49b8f22"
   },
   "source": [
    "### KMeans"
   ]
  },
  {
   "cell_type": "markdown",
   "id": "0071a928",
   "metadata": {
    "id": "0071a928"
   },
   "source": [
    "We will use the number of clusters based on the elbow method (3) for our KMeans."
   ]
  },
  {
   "cell_type": "code",
   "execution_count": 34,
   "id": "f54368df",
   "metadata": {
    "id": "f54368df"
   },
   "outputs": [],
   "source": [
    "kmeans = KMeans(n_clusters = 3, random_state = 42)\n",
    "y_means = kmeans.fit(df_scaled_no_cat)"
   ]
  },
  {
   "cell_type": "code",
   "execution_count": 35,
   "id": "648cf682",
   "metadata": {
    "colab": {
     "base_uri": "https://localhost:8080/"
    },
    "id": "648cf682",
    "outputId": "8783cd42-4f02-418f-a1c9-6f757427ff34"
   },
   "outputs": [
    {
     "data": {
      "text/plain": [
       "2    375\n",
       "1    367\n",
       "0    258\n",
       "dtype: int64"
      ]
     },
     "execution_count": 35,
     "metadata": {},
     "output_type": "execute_result"
    }
   ],
   "source": [
    "pd.Series(kmeans.labels_).value_counts()"
   ]
  },
  {
   "cell_type": "code",
   "execution_count": 36,
   "id": "16dc636a",
   "metadata": {
    "id": "16dc636a"
   },
   "outputs": [],
   "source": [
    "kmeans = KMeans(n_clusters=3, init='k-means++', max_iter=1000, n_init=100, random_state=0)\n",
    "y_means = kmeans.fit(df_scaled_no_cat)\n",
    "clusters = kmeans.fit_predict(df_scaled_no_cat)"
   ]
  },
  {
   "cell_type": "markdown",
   "id": "dad996b5",
   "metadata": {
    "id": "dad996b5"
   },
   "source": [
    "### PCA"
   ]
  },
  {
   "cell_type": "code",
   "execution_count": 37,
   "id": "8df1ed16",
   "metadata": {
    "colab": {
     "base_uri": "https://localhost:8080/"
    },
    "id": "8df1ed16",
    "outputId": "98e17e07-2b54-4e0f-b10d-0b76818dea28"
   },
   "outputs": [
    {
     "name": "stdout",
     "output_type": "stream",
     "text": [
      "Explained variance is: [1.62431022 1.00471706]\n",
      "Explained variance ratio [0.5408953  0.33457078]\n"
     ]
    }
   ],
   "source": [
    "from sklearn.decomposition import PCA \n",
    "\n",
    "pca2 = PCA(n_components=2).fit(df_scaled_no_cat)\n",
    "pca2d = pca2.transform(df_scaled_no_cat)\n",
    "\n",
    "print(\"Explained variance is:\", pca2.explained_variance_)\n",
    "print(\"Explained variance ratio\", pca2.explained_variance_ratio_)"
   ]
  },
  {
   "cell_type": "code",
   "execution_count": 38,
   "id": "27b09a62",
   "metadata": {
    "colab": {
     "base_uri": "https://localhost:8080/",
     "height": 548
    },
    "id": "27b09a62",
    "outputId": "b0cb3170-976a-4a3f-9f36-7e3e2693df5a"
   },
   "outputs": [
    {
     "name": "stdout",
     "output_type": "stream",
     "text": [
      "Explained variance: [1.62431022 1.00471706]\n",
      "Explained variance ratio: [0.5408953  0.33457078]\n"
     ]
    },
    {
     "data": {
      "image/png": "[encoded data removed]",
      "text/plain": [
       "<Figure size 576x576 with 1 Axes>"
      ]
     },
     "metadata": {
      "needs_background": "light"
     },
     "output_type": "display_data"
    }
   ],
   "source": [
    "pca4 = PCA(n_components=2).fit(df_scaled_no_cat)\n",
    "pca4d = pca4.transform(df_scaled_no_cat)\n",
    "\n",
    "print(\"Explained variance:\", pca4.explained_variance_)\n",
    "print(\"Explained variance ratio:\", pca4.explained_variance_ratio_)\n",
    "\n",
    "plt.figure(figsize = (8,8))\n",
    "sns.scatterplot(pca4d[:,0], pca4d[:,1], \n",
    "                hue=y_means.labels_, \n",
    "                palette='Set1',\n",
    "                s=100, alpha=0.2).set_title('KMeans Clusters based on Elbow Method', fontsize=12)\n",
    "plt.legend()\n",
    "plt.ylabel('PC2')\n",
    "plt.xlabel('PC1')\n",
    "plt.show()"
   ]
  },
  {
   "cell_type": "markdown",
   "id": "2ff8e8ac",
   "metadata": {},
   "source": [
    "We can see the 3 clusters using PCA."
   ]
  },
  {
   "cell_type": "code",
   "execution_count": 39,
   "id": "a01ea3eb",
   "metadata": {
    "id": "a01ea3eb"
   },
   "outputs": [],
   "source": [
    "df_scaled_no_cat = pd.DataFrame(df_scaled_no_cat)\n",
    "\n",
    "def pca_results(data, pca):\n",
    "\n",
    "    dimensions = dimensions = ['Dimension {}'.format(i) for i in range(1,len(pca.components_)+1)]\n",
    "\n",
    "    # PCA components\n",
    "    components = pd.DataFrame(np.round(pca.components_, 4), columns = list(data.keys()))\n",
    "    components.index = dimensions\n",
    "\n",
    "    # PCA explained variance\n",
    "    ratios = pca.explained_variance_ratio_.reshape(len(pca.components_), 1)\n",
    "    variance_ratios = pd.DataFrame(np.round(ratios, 4), columns = ['Explained Variance'])\n",
    "    variance_ratios.index = dimensions\n",
    "\n",
    "    # Create a bar plot visualization\n",
    "    fig, ax = plt.subplots(figsize = (14,8))\n",
    "\n",
    "    # Plot the feature weights as a function of the components\n",
    "    components.plot(ax = ax, kind = 'bar');\n",
    "    ax.set_ylabel(\"Feature Weights\")\n",
    "    ax.set_xticklabels(dimensions, rotation=0)\n",
    "\n",
    "\n",
    "    # Display the explained variance ratios\n",
    "    for i, ev in enumerate(pca.explained_variance_ratio_):\n",
    "        ax.text(i-0.40, ax.get_ylim()[1] + 0.05, \"Explained Variance\\n %.4f\"%(ev))\n",
    "\n",
    "    return pd.concat([variance_ratios, components], axis = 1)\n",
    "    "
   ]
  },
  {
   "cell_type": "code",
   "execution_count": 40,
   "id": "cfdc8415",
   "metadata": {
    "colab": {
     "base_uri": "https://localhost:8080/",
     "height": 514
    },
    "id": "cfdc8415",
    "outputId": "d07976e3-e877-4306-a28d-4435f125e7c6",
    "scrolled": false
   },
   "outputs": [
    {
     "data": {
      "image/png": "[encoded data removed]",
      "text/plain": [
       "<Figure size 1008x576 with 1 Axes>"
      ]
     },
     "metadata": {
      "needs_background": "light"
     },
     "output_type": "display_data"
    }
   ],
   "source": [
    "pca = PCA(n_components = 2, random_state=0)\n",
    "pca.fit(df_scaled_no_cat)\n",
    "\n",
    "pca_results = pca_results(df_scaled_no_cat, pca)"
   ]
  },
  {
   "cell_type": "markdown",
   "id": "ba4f5cd2",
   "metadata": {
    "id": "ba4f5cd2"
   },
   "source": [
    "First 2 components explained variance: 0.8755 (87.6%)"
   ]
  },
  {
   "cell_type": "markdown",
   "id": "b7c25889",
   "metadata": {},
   "source": [
    "Look at the clusters and their meaning"
   ]
  },
  {
   "cell_type": "code",
   "execution_count": 41,
   "id": "495482b2",
   "metadata": {
    "colab": {
     "base_uri": "https://localhost:8080/"
    },
    "id": "495482b2",
    "outputId": "95f18707-ae3c-452d-9580-92095259465e"
   },
   "outputs": [],
   "source": [
    "df_original = pd.read_csv(\"german_credit_data.csv\")\n",
    "df_clustered = df_original[['Age', 'Duration', 'Credit amount']]\n",
    "df_clustered['cluster'] = clusters"
   ]
  },
  {
   "cell_type": "code",
   "execution_count": 42,
   "id": "c7dfc07b",
   "metadata": {
    "colab": {
     "base_uri": "https://localhost:8080/",
     "height": 174
    },
    "id": "c7dfc07b",
    "outputId": "2a9ab16a-ce4a-4340-96eb-3bcd08c55e42",
    "scrolled": true
   },
   "outputs": [
    {
     "data": {
      "text/html": [
       "<div>\n",
       "<style scoped>\n",
       "    .dataframe tbody tr th:only-of-type {\n",
       "        vertical-align: middle;\n",
       "    }\n",
       "\n",
       "    .dataframe tbody tr th {\n",
       "        vertical-align: top;\n",
       "    }\n",
       "\n",
       "    .dataframe thead th {\n",
       "        text-align: right;\n",
       "    }\n",
       "</style>\n",
       "<table border=\"1\" class=\"dataframe\">\n",
       "  <thead>\n",
       "    <tr style=\"text-align: right;\">\n",
       "      <th></th>\n",
       "      <th>Age</th>\n",
       "      <th>Duration</th>\n",
       "      <th>Credit amount</th>\n",
       "    </tr>\n",
       "    <tr>\n",
       "      <th>cluster</th>\n",
       "      <th></th>\n",
       "      <th></th>\n",
       "      <th></th>\n",
       "    </tr>\n",
       "  </thead>\n",
       "  <tbody>\n",
       "    <tr>\n",
       "      <th>0</th>\n",
       "      <td>34.042667</td>\n",
       "      <td>32.224000</td>\n",
       "      <td>5665.384000</td>\n",
       "    </tr>\n",
       "    <tr>\n",
       "      <th>1</th>\n",
       "      <td>48.498099</td>\n",
       "      <td>13.859316</td>\n",
       "      <td>1970.349810</td>\n",
       "    </tr>\n",
       "    <tr>\n",
       "      <th>2</th>\n",
       "      <td>27.693370</td>\n",
       "      <td>14.292818</td>\n",
       "      <td>1736.290055</td>\n",
       "    </tr>\n",
       "  </tbody>\n",
       "</table>\n",
       "</div>"
      ],
      "text/plain": [
       "               Age   Duration  Credit amount\n",
       "cluster                                     \n",
       "0        34.042667  32.224000    5665.384000\n",
       "1        48.498099  13.859316    1970.349810\n",
       "2        27.693370  14.292818    1736.290055"
      ]
     },
     "execution_count": 42,
     "metadata": {},
     "output_type": "execute_result"
    }
   ],
   "source": [
    "df_clustered.groupby('cluster').mean()"
   ]
  },
  {
   "cell_type": "markdown",
   "id": "caf364ff",
   "metadata": {
    "id": "caf364ff"
   },
   "source": [
    "There are 3 clusters, we can see that there are three age groups - older, middle-aged and young customers."
   ]
  },
  {
   "cell_type": "markdown",
   "id": "cbbf6294",
   "metadata": {
    "id": "cbbf6294"
   },
   "source": [
    "### Training (XGBoost + RandomizedSearchCV)"
   ]
  },
  {
   "cell_type": "code",
   "execution_count": 43,
   "id": "ad0894a5",
   "metadata": {},
   "outputs": [
    {
     "data": {
      "text/html": [
       "<div>\n",
       "<style scoped>\n",
       "    .dataframe tbody tr th:only-of-type {\n",
       "        vertical-align: middle;\n",
       "    }\n",
       "\n",
       "    .dataframe tbody tr th {\n",
       "        vertical-align: top;\n",
       "    }\n",
       "\n",
       "    .dataframe thead th {\n",
       "        text-align: right;\n",
       "    }\n",
       "</style>\n",
       "<table border=\"1\" class=\"dataframe\">\n",
       "  <thead>\n",
       "    <tr style=\"text-align: right;\">\n",
       "      <th></th>\n",
       "      <th>Age</th>\n",
       "      <th>Credit amount</th>\n",
       "      <th>Duration</th>\n",
       "      <th>Risk</th>\n",
       "      <th>Sex_female</th>\n",
       "      <th>Sex_male</th>\n",
       "      <th>Job_0</th>\n",
       "      <th>Job_1</th>\n",
       "      <th>Job_2</th>\n",
       "      <th>Job_3</th>\n",
       "      <th>...</th>\n",
       "      <th>Checking account_none</th>\n",
       "      <th>Checking account_rich</th>\n",
       "      <th>Purpose_business</th>\n",
       "      <th>Purpose_car</th>\n",
       "      <th>Purpose_domestic appliances</th>\n",
       "      <th>Purpose_education</th>\n",
       "      <th>Purpose_furniture/equipment</th>\n",
       "      <th>Purpose_radio/TV</th>\n",
       "      <th>Purpose_repairs</th>\n",
       "      <th>Purpose_vacation/others</th>\n",
       "    </tr>\n",
       "  </thead>\n",
       "  <tbody>\n",
       "    <tr>\n",
       "      <th>0</th>\n",
       "      <td>2.271006</td>\n",
       "      <td>-0.933901</td>\n",
       "      <td>-1.864869</td>\n",
       "      <td>1</td>\n",
       "      <td>0</td>\n",
       "      <td>1</td>\n",
       "      <td>0</td>\n",
       "      <td>0</td>\n",
       "      <td>1</td>\n",
       "      <td>0</td>\n",
       "      <td>...</td>\n",
       "      <td>0</td>\n",
       "      <td>0</td>\n",
       "      <td>0</td>\n",
       "      <td>0</td>\n",
       "      <td>0</td>\n",
       "      <td>0</td>\n",
       "      <td>0</td>\n",
       "      <td>1</td>\n",
       "      <td>0</td>\n",
       "      <td>0</td>\n",
       "    </tr>\n",
       "  </tbody>\n",
       "</table>\n",
       "<p>1 rows × 30 columns</p>\n",
       "</div>"
      ],
      "text/plain": [
       "        Age  Credit amount  Duration  Risk  Sex_female  Sex_male  Job_0  \\\n",
       "0  2.271006      -0.933901 -1.864869     1           0         1      0   \n",
       "\n",
       "   Job_1  Job_2  Job_3  ...  Checking account_none  Checking account_rich  \\\n",
       "0      0      1      0  ...                      0                      0   \n",
       "\n",
       "   Purpose_business  Purpose_car  Purpose_domestic appliances  \\\n",
       "0                 0            0                            0   \n",
       "\n",
       "   Purpose_education  Purpose_furniture/equipment  Purpose_radio/TV  \\\n",
       "0                  0                            0                 1   \n",
       "\n",
       "   Purpose_repairs  Purpose_vacation/others  \n",
       "0                0                        0  \n",
       "\n",
       "[1 rows x 30 columns]"
      ]
     },
     "execution_count": 43,
     "metadata": {},
     "output_type": "execute_result"
    }
   ],
   "source": [
    "encoder = preprocessing.LabelEncoder()\n",
    "df['Risk'] = encoder.fit_transform(df['Risk'])\n",
    "df.head(1)"
   ]
  },
  {
   "cell_type": "code",
   "execution_count": 44,
   "id": "2f575a29",
   "metadata": {},
   "outputs": [],
   "source": [
    "df[\"Age\"] = df_scaled_no_cat[0]\n",
    "df[\"Credit amount\"] = df_scaled_no_cat[1]\n",
    "df[\"Duration\"] = df_scaled_no_cat[2]"
   ]
  },
  {
   "cell_type": "code",
   "execution_count": 45,
   "id": "b6207ff2",
   "metadata": {
    "id": "b6207ff2"
   },
   "outputs": [],
   "source": [
    "X = df.drop('Risk', 1)\n",
    "y = df['Risk']"
   ]
  },
  {
   "cell_type": "code",
   "execution_count": 46,
   "id": "40f7ca50",
   "metadata": {
    "id": "40f7ca50"
   },
   "outputs": [],
   "source": [
    "X_train, X_test, y_train, y_test = train_test_split(X, y, test_size = 0.2, random_state = 0)"
   ]
  },
  {
   "cell_type": "code",
   "execution_count": 47,
   "id": "abcc504e",
   "metadata": {},
   "outputs": [
    {
     "name": "stdout",
     "output_type": "stream",
     "text": [
      "Fitting 5 folds for each of 200 candidates, totalling 1000 fits\n"
     ]
    },
    {
     "name": "stderr",
     "output_type": "stream",
     "text": [
      "[Parallel(n_jobs=-1)]: Using backend LokyBackend with 8 concurrent workers.\n",
      "[Parallel(n_jobs=-1)]: Done  16 tasks      | elapsed:    4.5s\n",
      "[Parallel(n_jobs=-1)]: Done 112 tasks      | elapsed:   18.2s\n",
      "[Parallel(n_jobs=-1)]: Done 272 tasks      | elapsed:   49.8s\n",
      "[Parallel(n_jobs=-1)]: Done 496 tasks      | elapsed:  1.5min\n",
      "[Parallel(n_jobs=-1)]: Done 784 tasks      | elapsed:  2.4min\n",
      "[Parallel(n_jobs=-1)]: Done 1000 out of 1000 | elapsed:  3.1min finished\n"
     ]
    },
    {
     "data": {
      "text/plain": [
       "XGBClassifier(base_score=0.5, booster='gbtree', colsample_bylevel=1,\n",
       "              colsample_bynode=1, colsample_bytree=0.28992134555505056,\n",
       "              enable_categorical=False, eval_metric='mlogloss', gamma=0.2,\n",
       "              gpu_id=-1, importance_type=None, interaction_constraints='',\n",
       "              learning_rate=0.002336590371313266, max_delta_step=0, max_depth=3,\n",
       "              min_child_weight=1, missing=nan, monotone_constraints='()',\n",
       "              n_estimators=904, n_jobs=8, num_parallel_tree=1, predictor='auto',\n",
       "              random_state=0, reg_alpha=0, reg_lambda=1, scale_pos_weight=1,\n",
       "              subsample=0.8062591008726809, tree_method='exact',\n",
       "              use_label_encoder=False, validate_parameters=1, verbosity=None)"
      ]
     },
     "execution_count": 47,
     "metadata": {},
     "output_type": "execute_result"
    }
   ],
   "source": [
    "classifier = xgboost.XGBClassifier(use_label_encoder=False)\n",
    "\n",
    "params = {\n",
    " \"max_depth\" : [ 3, 4, 5, 6, 8, 10, 12, 15, 20 ],\n",
    " \"min_child_weight\" : [ 1, 2, 3, 4, 5, 6, 7, 8, 9 ],\n",
    " \"gamma\": [ 0.0001, 0.001, 0.01, 0.1, 0.2, 0.3, 0.4, 0.5, 0.9],\n",
    " \"eval_metric\" : [\"mlogloss\"],\n",
    " \"n_estimators\": stats.randint(100, 2000),\n",
    " \"learning_rate\": stats.uniform(0.0001, 0.99),\n",
    " \"subsample\": stats.uniform(0.001, 0.99),\n",
    " \"colsample_bytree\": stats.uniform(0.001, 0.99),\n",
    "}\n",
    "\n",
    "rs_model=RandomizedSearchCV(classifier, param_distributions=params, n_iter=200, scoring='roc_auc', n_jobs=-1, cv=5, verbose=3)\n",
    "rs_model.fit(X_train,y_train)\n",
    "rs_model.best_estimator_\n"
   ]
  },
  {
   "cell_type": "code",
   "execution_count": 48,
   "id": "11e594af",
   "metadata": {
    "colab": {
     "base_uri": "https://localhost:8080/"
    },
    "id": "11e594af",
    "outputId": "be90137f-3111-49df-d0ae-d3a8bdea9a8a"
   },
   "outputs": [
    {
     "name": "stdout",
     "output_type": "stream",
     "text": [
      "Accuracy: 72.70% (2.48%)\n",
      "Accuracy= 72.700000, Recall=72.700000, Precision=73.059000, f1score=72.879000\n"
     ]
    }
   ],
   "source": [
    "model = rs_model.best_estimator_\n",
    "kfold = KFold(n_splits=5)\n",
    "results = cross_val_score(model, X, y, cv=kfold)\n",
    "print(\"Accuracy: %.2f%% (%.2f%%)\" % (results.mean()*100, results.std()*100))\n",
    "Accuracy = results.mean()*100\n",
    "\n",
    "model = rs_model.best_estimator_\n",
    "PW = cross_val_score(model, X, y, cv=kfold, scoring='precision_weighted')\n",
    "Rscore = cross_val_score(model, X, y, cv=kfold, scoring='recall_weighted')\n",
    "\n",
    "Recall = (round((Rscore.mean()*100),3))\n",
    "Precision = (round((PW.mean()*100),3))\n",
    "\n",
    "f1score=round(2*((Recall*Precision)/(Recall+Precision)),3)\n",
    "\n",
    "print(\"Accuracy= %f, Recall=%f, Precision=%f, f1score=%f\" % (Accuracy,Recall,Precision,f1score))\n"
   ]
  },
  {
   "cell_type": "markdown",
   "id": "15a993c9",
   "metadata": {},
   "source": [
    "### Evaluate model on test set"
   ]
  },
  {
   "cell_type": "code",
   "execution_count": 49,
   "id": "df265a49",
   "metadata": {},
   "outputs": [],
   "source": [
    "from sklearn.metrics import accuracy_score, precision_score, recall_score\n",
    "\n",
    "def evaluate_model(name, model, features, labels):\n",
    "    pred = model.predict(features)\n",
    "    accuracy = round(accuracy_score(labels, pred), 3)\n",
    "    precision = round(precision_score(labels, pred, average='micro'), 3)\n",
    "    recall = round(recall_score(labels, pred, average='micro'), 3)\n",
    "    print('{} -- Accuracy: {} / Precision: {} / Recall: {}'.format(name,accuracy,precision,recall))"
   ]
  },
  {
   "cell_type": "code",
   "execution_count": 50,
   "id": "e86c13d8",
   "metadata": {},
   "outputs": [
    {
     "name": "stdout",
     "output_type": "stream",
     "text": [
      "XGBClassifier using RandomizedSearchCV -- Accuracy: 0.74 / Precision: 0.74 / Recall: 0.74\n"
     ]
    }
   ],
   "source": [
    "evaluate_model(\"XGBClassifier using RandomizedSearchCV\", model, X_test, y_test)"
   ]
  }
 ],
 "metadata": {
  "accelerator": "GPU",
  "colab": {
   "collapsed_sections": [
    "4d9bb1ee",
    "2bed5b23",
    "aaf7a9f5"
   ],
   "name": "Untitled.ipynb",
   "provenance": []
  },
  "kernelspec": {
   "display_name": "Python 3",
   "language": "python",
   "name": "python3"
  },
  "language_info": {
   "codemirror_mode": {
    "name": "ipython",
    "version": 3
   },
   "file_extension": ".py",
   "mimetype": "text/x-python",
   "name": "python",
   "nbconvert_exporter": "python",
   "pygments_lexer": "ipython3",
   "version": "3.6.13"
  }
 },
 "nbformat": 4,
 "nbformat_minor": 5
}
